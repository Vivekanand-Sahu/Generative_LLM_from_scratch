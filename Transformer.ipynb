{
  "nbformat": 4,
  "nbformat_minor": 0,
  "metadata": {
    "colab": {
      "provenance": [],
      "toc_visible": true
    },
    "kernelspec": {
      "name": "python3",
      "display_name": "Python 3"
    },
    "language_info": {
      "name": "python"
    }
  },
  "cells": [
    {
      "cell_type": "markdown",
      "source": [
        "# Encoder"
      ],
      "metadata": {
        "id": "pXFLN5-qOV3X"
      }
    },
    {
      "cell_type": "code",
      "execution_count": null,
      "metadata": {
        "id": "d7FlKwmxKtfQ"
      },
      "outputs": [],
      "source": [
        "# !unzip '/content/CSE256_PA2_FA24.zip'"
      ]
    },
    {
      "cell_type": "code",
      "source": [
        "import nltk\n",
        "# nltk.download('punkt')"
      ],
      "metadata": {
        "id": "BtNpuJj9Le3P"
      },
      "execution_count": null,
      "outputs": []
    },
    {
      "cell_type": "code",
      "source": [
        "import sys\n",
        "sys.path.append('/content/CSE256_PA2_FA24/PA2_code')"
      ],
      "metadata": {
        "id": "t2g2QhNfL79H"
      },
      "execution_count": null,
      "outputs": []
    },
    {
      "cell_type": "code",
      "source": [
        "import torch\n",
        "from torch.utils.data import DataLoader\n",
        "from torch.nn.utils.rnn import pad_sequence\n",
        "import os\n",
        "import torch.nn as nn\n",
        "import math\n",
        "import torch.nn.functional as F\n",
        "\n",
        "\n",
        "from utilities import Utilities\n",
        "\n",
        "from tokenizer import SimpleTokenizer\n",
        "from dataset import SpeechesClassificationDataset, LanguageModelingDataset\n",
        "\n",
        "\n",
        "seed = 42\n",
        "\n",
        "device = torch.device(\"cuda\" if torch.cuda.is_available() else \"cpu\")\n",
        "#device = \"cpu\""
      ],
      "metadata": {
        "id": "ylQXZeYqL0Fz"
      },
      "execution_count": null,
      "outputs": []
    },
    {
      "cell_type": "code",
      "source": [
        "\"\"\" Hyperparameters to use for training to roughly match\n",
        "the numbers mentioned in the assignment description \"\"\"\n",
        "batch_size = 16  # Number of independent sequences will we process in parallel\n",
        "block_size = 32  # Maximum context length for predictions                         # max_seq_len\n",
        "learning_rate = 1e-3  # Learning rate for the optimizer\n",
        "n_embd = 64  # Embedding dimension                                                # d_model\n",
        "n_head = 2  # Number of attention heads                                           # n_h\n",
        "n_layer = 4  # Number of transformer layers                                       # N\n",
        "\n",
        "\n",
        "eval_interval = 100  # How often to evaluate train and test perplexity during training\n",
        "max_iters = 500 # For language modeling, we can process all the batches for the entire dataset, but that takes a while, so we'll limit it to 500 iterations. For batch size of 16 and block size of  32, this is roughly, this is  500 * 16 * 32 = 256000 tokens, SOTA LMs are trained on trillions of tokens, so this is a very small dataset.\n",
        "eval_iters = 200  # Number of iterations to evaluate perplexity on the test set\n",
        "\n",
        "\n",
        "## classifier training hyperparameters. It is a simple 1 hidden layer feedforward network, with input\n",
        "## size of 64, hidden size of 50 and output size of 3.\n",
        "\n",
        "n_input = 64  # Input size for the classifier, should match the embedding size of the transformer\n",
        "n_hidden = 100  # Hidden size for the classifier\n",
        "n_output = 3  # Output size for the classifier, we have 3 classes\n",
        "epochs_CLS = 15 # epochs for classifier training"
      ],
      "metadata": {
        "id": "CIeNgAzXL_V-"
      },
      "execution_count": null,
      "outputs": []
    },
    {
      "cell_type": "code",
      "source": [
        "def compute_accuracy(output, target):\n",
        "    ########### TODO ###########\n",
        "\n",
        "    predicted = output.argmax(dim=1)\n",
        "\n",
        "    # Calculate accuracy by comparing predicted labels with target labels\n",
        "    correct = (predicted == target).sum()#.item()\n",
        "    total = target.size(0)\n",
        "    acc = correct / total\n",
        "\n",
        "    ######## End of TODO #######\n",
        "    return acc"
      ],
      "metadata": {
        "id": "ETWokMvjMtM7"
      },
      "execution_count": null,
      "outputs": []
    },
    {
      "cell_type": "code",
      "source": [
        "def load_texts(directory):\n",
        "    \"\"\"\n",
        "    This function loads all texts from the specified directory, ignoring any files with \"test\" in their name. The text is used for \"training\" the tokenizer. Since our tokenizer is simple, we don't need to do any training, but we still need to ignore the test data.\n",
        "    \"\"\"\n",
        "\n",
        "    texts = []\n",
        "    files = os.listdir(directory)\n",
        "    for filename in files:\n",
        "        if \"test\" in filename:  ## don't \"read test files\"\n",
        "            continue\n",
        "        with open(os.path.join(directory, filename), 'r', encoding='utf-8') as file:\n",
        "            texts.append(file.read())\n",
        "    return texts\n",
        "\n",
        "\n",
        "\n",
        "def collate_batch(batch):\n",
        "    \"\"\" Collate a batch of data into a single tensor with padding.\"\"\"\n",
        "    data, labels = zip(*batch)  # Separate the data and labels\n",
        "    # Pad sequences to the fixed length\n",
        "    padded_sequences = pad_sequence(data, batch_first=True, padding_value=0)\n",
        "    padded_sequences = padded_sequences[:, :block_size]  # Truncate if longer\n",
        "    # Add padding if shorter\n",
        "    padded_sequences = torch.nn.functional.pad(padded_sequences, (0, max(0, block_size - padded_sequences.shape[1])), \"constant\", 0)\n",
        "    labels = torch.stack(labels)\n",
        "    return padded_sequences, labels\n",
        "\n",
        "def compute_classifier_accuracy(classifier, data_loader):\n",
        "    \"\"\" Compute the accuracy of the classifier on the data in data_loader.\"\"\"\n",
        "    classifier.eval()\n",
        "    total_correct = 0\n",
        "    total_samples = 0\n",
        "    with torch.no_grad():\n",
        "        for X, Y in data_loader:\n",
        "            X, Y = X.to(device), Y.to(device)\n",
        "            outputs = classifier(X)\n",
        "            _, predicted = torch.max(outputs.data, 1)\n",
        "            total_correct += (predicted == Y).sum().item()\n",
        "            total_samples += Y.size(0)\n",
        "        accuracy = (100 * total_correct / total_samples)\n",
        "        classifier.train()\n",
        "        return accuracy\n",
        "\n",
        "\n",
        "def compute_perplexity(decoderLMmodel, data_loader, eval_iters=100):\n",
        "    \"\"\" Compute the perplexity of the decoderLMmodel on the data in data_loader.\n",
        "    Make sure to use the cross entropy loss for the decoderLMmodel.\n",
        "    \"\"\"\n",
        "    decoderLMmodel.eval()\n",
        "    losses= []\n",
        "    total_loss = 0\n",
        "    for X, Y in data_loader:\n",
        "        X, Y = X.to(device), Y.to(device)\n",
        "        # me\n",
        "        #loss = decoderLMmodel(X, Y) # your model should be computing the cross entropy loss\n",
        "        loss = decoderLMmodel(X, Y)[2] # your model should be computing the cross entropy loss\n",
        "        # me\n",
        "        losses.append(loss.item())\n",
        "        total_loss += loss.item()\n",
        "        if len(losses) >= eval_iters: break\n",
        "\n",
        "\n",
        "    losses = torch.tensor(losses)\n",
        "    mean_loss = losses.mean()\n",
        "    perplexity = torch.exp(mean_loss).item()  # Calculate perplexity as exp(mean loss)\n",
        "\n",
        "    decoderLMmodel.train()\n",
        "    return perplexity"
      ],
      "metadata": {
        "id": "mb5saicwM-F3"
      },
      "execution_count": null,
      "outputs": []
    },
    {
      "cell_type": "code",
      "source": [
        "# Example usage\n",
        "texts = load_texts('/content/CSE256_PA2_FA24/PA2_code/speechesdataset')\n",
        "tokenizer = SimpleTokenizer(' '.join(texts))  # Create a tokenizer from the data\n",
        "\n",
        "train_CLS_dataset = SpeechesClassificationDataset(tokenizer, \"/content/CSE256_PA2_FA24/PA2_code/speechesdataset/train_CLS.tsv\")\n",
        "\n",
        "\n",
        "# # get dataset\n",
        "# texts = load_texts('/home/vsahu/private/CSE/CSE256_PA_SP24/speechesdataset')\n",
        "# tokenizer = SimpleTokenizer(' '.join(texts)) # create a tokenizer from the data\n",
        "\n",
        "# train_CLS_dataset = SpeechesClassificationDataset(tokenizer, \"/home/vsahu/private/CSE/CSE256_PA_SP24/speechesdataset/train_CLS.tsv\")\n",
        "train_CLS_loader = DataLoader(train_CLS_dataset, batch_size=batch_size, collate_fn=collate_batch)\n",
        "\n",
        "test_CLS_dataset = SpeechesClassificationDataset(tokenizer, \"/content/CSE256_PA2_FA24/PA2_code/speechesdataset/test_CLS.tsv\")\n",
        "test_CLS_loader = DataLoader(test_CLS_dataset, batch_size=batch_size, collate_fn=collate_batch)"
      ],
      "metadata": {
        "id": "b65yuqZtOs6-"
      },
      "execution_count": null,
      "outputs": []
    },
    {
      "cell_type": "code",
      "source": [
        "train_CLS_dataset[50]"
      ],
      "metadata": {
        "colab": {
          "base_uri": "https://localhost:8080/"
        },
        "id": "1ITTKxKkPvrr",
        "outputId": "d3a4ea13-6afc-48c9-cd05-d40a48f5bb1a"
      },
      "execution_count": null,
      "outputs": [
        {
          "output_type": "execute_result",
          "data": {
            "text/plain": [
              "(tensor([2241, 2370, 4577, 4534,  883, 1986,  830, 2283, 3693, 3317, 1660, 1499,\n",
              "         1429, 4577, 4969, 3705, 1986, 5377,  893]),\n",
              " tensor(2))"
            ]
          },
          "metadata": {},
          "execution_count": 8
        }
      ]
    },
    {
      "cell_type": "code",
      "source": [
        "class Embedder(nn.Module):\n",
        "\n",
        "    def __init__(self, vocab_size, d_model):\n",
        "        super(Embedder, self).__init__()\n",
        "        self.embed = nn.Embedding(vocab_size, d_model)\n",
        "\n",
        "    def forward(self, x):\n",
        "        #x = x.to(device)\n",
        "        return self.embed(x)"
      ],
      "metadata": {
        "id": "B25q8fmIQWGi"
      },
      "execution_count": null,
      "outputs": []
    },
    {
      "cell_type": "code",
      "source": [
        "class PositionalEncoding(nn.Module):\n",
        "\n",
        "    def __init__(self, d_model, max_seq_length):\n",
        "        super(PositionalEncoding, self).__init__()\n",
        "\n",
        "        pe = torch.zeros(max_seq_length, d_model)\n",
        "        position = torch.arange(0, max_seq_length, dtype=torch.float).unsqueeze(1)\n",
        "        div_term = torch.exp(torch.arange(0, d_model, 2).float() * -(math.log(10000.0) / d_model))\n",
        "\n",
        "        pe[:, 0::2] = torch.sin(position * div_term)\n",
        "        pe[:, 1::2] = torch.cos(position * div_term)\n",
        "\n",
        "        self.register_buffer('pe', pe.unsqueeze(0))\n",
        "\n",
        "    def forward(self, x):\n",
        "        return x + self.pe[:, :x.size(1)]\n",
        "\n"
      ],
      "metadata": {
        "id": "WSnvgwg1Q4Uo"
      },
      "execution_count": null,
      "outputs": []
    },
    {
      "cell_type": "code",
      "source": [
        "class MultiHeadAttention(nn.Module):\n",
        "\n",
        "    def __init__(self, d_model, num_heads, dropout=0.2):\n",
        "        super(MultiHeadAttention, self).__init__()\n",
        "        assert d_model % num_heads == 0\n",
        "\n",
        "        self.d_model = d_model # Model's dimension\n",
        "        self.num_heads = num_heads # Number of attention heads\n",
        "        self.d_k = d_model // num_heads # Dimension of each head's key, query, and value\n",
        "\n",
        "        self.W_q = nn.Linear(d_model, d_model) # Query transformation\n",
        "        self.W_k = nn.Linear(d_model, d_model) # Key transformation\n",
        "        self.W_v = nn.Linear(d_model, d_model) # Value transformation\n",
        "        self.W_o = nn.Linear(d_model, d_model) # Output transformation\n",
        "        self.dropout = nn.Dropout(dropout)\n",
        "\n",
        "    def split_heads(self, x):\n",
        "        # Reshape the input to have num_heads for multi-head attention\n",
        "        batch_size, seq_length, d_model = x.size()\n",
        "        return x.view(batch_size, seq_length, self.num_heads, self.d_k).transpose(1, 2) # similar to np reshape\n",
        "\n",
        "    def scaled_dot_product_attention(self, Q, K, V, mask=None):\n",
        "        attn_scores = torch.matmul(Q,K.transpose(-2, -1))/math.sqrt(self.d_k)\n",
        "\n",
        "        #print('attn_scores', attn_scores.shape)\n",
        "        if mask is not None:\n",
        "            attn_scores = attn_scores.masked_fill(mask == 0, -1e9) # inbuilt function of tensor\n",
        "        attn_probs = torch.softmax(attn_scores, dim = -1) # for each row\n",
        "        output = torch.matmul(attn_probs, V)\n",
        "        return output, attn_probs\n",
        "\n",
        "    def combine_heads(self, x):\n",
        "        # Combine the multiple heads back to original shape\n",
        "        batch_size, _, seq_length, d_k = x.size()\n",
        "        return x.transpose(1, 2).contiguous().view(batch_size, seq_length, self.d_model)\n",
        "\n",
        "    def forward(self, Q, K, V, mask=None):\n",
        "        Q = self.split_heads(self.W_q(Q))\n",
        "        K = self.split_heads(self.W_k(K))\n",
        "        V = self.split_heads(self.W_v(V))\n",
        "\n",
        "        # Perform scaled dot-product attention\n",
        "        attn_output, attn_probs = self.scaled_dot_product_attention(Q, K, V, mask)\n",
        "\n",
        "        # Combine heads and apply output transformation\n",
        "        output = self.W_o(self.combine_heads(attn_output))\n",
        "        #print('attention size', type(attn_probs), attn_probs.shape)\n",
        "        output = self.dropout(output)\n",
        "        return output, attn_probs\n",
        "\n",
        "\n"
      ],
      "metadata": {
        "id": "m02EZaipQ790"
      },
      "execution_count": null,
      "outputs": []
    },
    {
      "cell_type": "code",
      "source": [
        "class PositionWiseFeedForward(nn.Module):\n",
        "    def __init__(self, d_model, d_ff): # d_ff: Dimensionality of the inner layer in the feed-forward network.\n",
        "\n",
        "        super(PositionWiseFeedForward, self).__init__()\n",
        "        self.fc1 = nn.Linear(d_model, d_ff)\n",
        "        self.fc2 = nn.Linear(d_ff, d_model)\n",
        "        self.relu = nn.ReLU()\n",
        "\n",
        "    def forward(self, x):\n",
        "        return self.fc2(self.relu(self.fc1(x)))"
      ],
      "metadata": {
        "id": "nKn53s8vRMqR"
      },
      "execution_count": null,
      "outputs": []
    },
    {
      "cell_type": "code",
      "source": [
        "class EncoderBlock(nn.Module):\n",
        "\n",
        "    def __init__(self, d_model, num_heads, d_ff, max_seq_length, dropout):\n",
        "        super(EncoderBlock, self).__init__()\n",
        "        #self.self_attention = MultiHeadAttention(d_model, num_heads)\n",
        "        self.self_attention = MHAttention(\n",
        "                                input_size=block_size, # Dimension 1 of the input\n",
        "                                channels=n_embd, # Dimension 2 of the input\n",
        "                                dim=32, # Dim of each attn head\n",
        "                                dim_k=block_size//32, # What to sample the input length down to\n",
        "                                nhead=n_head, # Number of heads\n",
        "                                dropout=0, # Dropout for each of the heads\n",
        "                                activation=None, #\"gelu\", # Activation after attention has been concat'd\n",
        "                                checkpoint_level=\"C2\", # If C2, checkpoint each of the heads\n",
        "                                parameter_sharing='none', #\"layerwise\", # What level of parameter sharing to do\n",
        "                                E_proj=None, #get_EF(512, 128),\n",
        "                                F_proj=None, #get_EF(512, 128), # The E and F projection matrices\n",
        "                                full_attention=False, # Use full attention instead\n",
        "                                causal_mask = gen_causal_mask(block_size, block_size//32, full_attention=False),\n",
        "                                w_o_intermediate_dim=None)\n",
        "\n",
        "        self.feed_forward = PositionWiseFeedForward(d_model, d_ff)\n",
        "        self.layernorm0 = nn.LayerNorm(d_model)\n",
        "        self.layernorm1 = nn.LayerNorm(d_model)\n",
        "        self.layernorm2 = nn.LayerNorm(d_model)\n",
        "        self.dropout = nn.Dropout(dropout)\n",
        "\n",
        "    def forward(self, x, mask):\n",
        "\n",
        "        x1 = self.layernorm0(x)\n",
        "        #attn_output, attn_probs = self.self_attention(x1,x1,x1,mask) #  the entire forward pass through the MultiHeadAttention module is executed\n",
        "        #  The padding mask ensures that these padded tokens are not attended to during the self-attention step. This mask is a binary matrix where the entry is 1 if the corresponding input token is not a padding token and 0 if it is a padding token. During self-attention, the padding mask is added to the scaled dot-product attention operation to exclude padded elements from contributing to the attention scores.\n",
        "        attn_output = self.self_attention(x1) #  the entire forward pass through the MultiHeadAttention module is executed\n",
        "        attn_probs = attn_output\n",
        "        x = x + attn_output\n",
        "        x2 = self.layernorm1(x)\n",
        "        ff = self.feed_forward(x2)\n",
        "        x = self.layernorm2(self.dropout(ff)+x)\n",
        "        # how pointwise is taken care of?\n",
        "\n",
        "\n",
        "        return x, attn_probs"
      ],
      "metadata": {
        "id": "CvY4B6hEzfp2"
      },
      "execution_count": null,
      "outputs": []
    },
    {
      "cell_type": "code",
      "source": [
        "class EncoderBlock(nn.Module):\n",
        "\n",
        "    def __init__(self, d_model, num_heads, d_ff, max_seq_length, dropout):\n",
        "        super(EncoderBlock, self).__init__()\n",
        "        self.self_attention = MultiHeadAttention(d_model, num_heads)\n",
        "        self.feed_forward = PositionWiseFeedForward(d_model, d_ff)\n",
        "        self.layernorm0 = nn.LayerNorm(d_model)\n",
        "        self.layernorm1 = nn.LayerNorm(d_model)\n",
        "        self.layernorm2 = nn.LayerNorm(d_model)\n",
        "        self.dropout = nn.Dropout(dropout)\n",
        "\n",
        "    def forward(self, x, mask):\n",
        "\n",
        "        x1 = self.layernorm0(x)\n",
        "        attn_output, attn_probs = self.self_attention(x1,x1,x1,mask) #  the entire forward pass through the MultiHeadAttention module is executed\n",
        "        #  The padding mask ensures that these padded tokens are not attended to during the self-attention step. This mask is a binary matrix where the entry is 1 if the corresponding input token is not a padding token and 0 if it is a padding token. During self-attention, the padding mask is added to the scaled dot-product attention operation to exclude padded elements from contributing to the attention scores.\n",
        "        x = x + attn_output\n",
        "        x2 = self.layernorm1(x)\n",
        "        ff = self.feed_forward(x2)\n",
        "        x = self.layernorm2(self.dropout(ff)+x)\n",
        "        # how pointwise is taken care of?\n",
        "\n",
        "\n",
        "        return x, attn_probs"
      ],
      "metadata": {
        "id": "uvgfMqccRUVW"
      },
      "execution_count": null,
      "outputs": []
    },
    {
      "cell_type": "code",
      "source": [
        "class feed_forward_classifier(nn.Module):\n",
        "\n",
        "    def __init__(self, input_dim, output_dim, hidden):\n",
        "        super(feed_forward_classifier, self).__init__()\n",
        "        self.input_dim = input_dim\n",
        "        self.output_dim = output_dim\n",
        "        self.hidden = hidden\n",
        "        self.l1 = nn.Linear(self.input_dim, self.hidden)\n",
        "        self.l2 = nn.Linear(self.hidden, self.output_dim)\n",
        "\n",
        "    def forward(self, x):\n",
        "        #print(x.shape)\n",
        "        layer1 = self.l1(x)\n",
        "        act1 = nn.functional.relu(layer1)\n",
        "        layer2 = self.l2(act1)\n",
        "        output = nn.LogSoftmax(dim=1)(layer2)\n",
        "        #print(output.shape)\n",
        "        return output\n",
        "\n"
      ],
      "metadata": {
        "id": "5tTLcyPKYbZq"
      },
      "execution_count": null,
      "outputs": []
    },
    {
      "cell_type": "code",
      "source": [
        "class classifier(nn.Module):\n",
        "\n",
        "    def __init__(self, src_vocab_size, d_model, num_heads, num_layers, d_ff, max_seq_length, dropout, output_dim = 3, hidden = 100): # d_ff: Dimensionality of the inner layer in the pointwise feed-forward network.\n",
        "        super(classifier, self).__init__()\n",
        "        self.encoder_embedding = Embedder(src_vocab_size, d_model)\n",
        "        self.positional_encoding = PositionalEncoding(d_model, max_seq_length)\n",
        "        self.encoder_layers = nn.ModuleList([EncoderBlock(d_model, num_heads, d_ff, max_seq_length, dropout) for _ in range(num_layers)])\n",
        "        self.dropout = nn.Dropout(dropout)\n",
        "        self.feed_forward = feed_forward_classifier(d_model, output_dim, hidden) #d_model sure?\n",
        "\n",
        "    def generate_mask(self, src):   # understanding?\n",
        "        src_mask = (src != 0).unsqueeze(1).unsqueeze(2)\n",
        "        return src_mask\n",
        "\n",
        "    def forward(self, src):\n",
        "        src_mask = self.generate_mask(src)\n",
        "        src_embedded = self.dropout(self.positional_encoding(self.encoder_embedding(src)))\n",
        "\n",
        "        enc_output = src_embedded\n",
        "        for enc_layer in self.encoder_layers:\n",
        "            enc_output, attn_probs = enc_layer(enc_output, src_mask)\n",
        "            #enc_output, attn_probs = enc_layer(enc_output)\n",
        "\n",
        "        enc_output = enc_output.mean(dim=1)\n",
        "\n",
        "        output = self.feed_forward(enc_output)\n",
        "        return output, attn_probs[0], None\n",
        "\n"
      ],
      "metadata": {
        "id": "FqLVfzFxYeGp"
      },
      "execution_count": null,
      "outputs": []
    },
    {
      "cell_type": "code",
      "source": [
        "src_vocab_size = 5755\n",
        "d_ff = 4*n_embd\n",
        "dropout = 0.2"
      ],
      "metadata": {
        "id": "7znrdlxv6Oe2"
      },
      "execution_count": null,
      "outputs": []
    },
    {
      "cell_type": "code",
      "source": [
        "print(sum(p.numel() for p in classify.parameters())/1e6, 'M parameters')"
      ],
      "metadata": {
        "colab": {
          "base_uri": "https://localhost:8080/"
        },
        "id": "j03GXBkANuLi",
        "outputId": "853491b5-bccd-477b-8a78-abb871d5149f"
      },
      "execution_count": null,
      "outputs": [
        {
          "output_type": "stream",
          "name": "stdout",
          "text": [
            "0.575571 M parameters\n"
          ]
        }
      ]
    },
    {
      "cell_type": "code",
      "source": [
        "classify = classifier(src_vocab_size,\n",
        "                      n_embd,\n",
        "                      n_head,\n",
        "                      n_layer,\n",
        "                      d_ff,\n",
        "                      block_size,\n",
        "                      dropout,\n",
        "                      n_output,\n",
        "                      n_hidden).to(device)\n",
        "\n",
        "losses = []\n",
        "Accuracy = []\n",
        "Accuracy_val = []\n",
        "criterion = nn.CrossEntropyLoss() # me ignore_index?\n",
        "optimizer = torch.optim.AdamW(classify.parameters(), learning_rate, eps=1e-9)\n",
        "\n",
        "epochs_CLS = 50\n",
        "for epoch in range(epochs_CLS):\n",
        "    classify.train()\n",
        "    running_loss = 0.0\n",
        "    running_loss_val = 0.0\n",
        "    running_correct = 0\n",
        "    running_correct_val = 0\n",
        "    total = 0\n",
        "    total_val = 0\n",
        "    for xb, yb in train_CLS_loader:\n",
        "        xb, yb = xb.to(device), yb.to(device)\n",
        "        # CLS training code here\n",
        "\n",
        "        output, _, _ = classify(xb)\n",
        "\n",
        "        loss = criterion(output, yb)\n",
        "\n",
        "        optimizer.zero_grad()\n",
        "        loss.backward()\n",
        "        optimizer.step()\n",
        "\n",
        "        # Update running metrics\n",
        "        running_loss += loss.item() * xb.size(0)\n",
        "        _, predicted = torch.max(output.data, 1)\n",
        "        total += yb.size(0)\n",
        "        running_correct += (predicted == yb).sum().item()\n",
        "\n",
        "        acc = compute_accuracy(output, yb)\n",
        "    losses.append(running_loss / total)\n",
        "    Accuracy.append(running_correct / total)\n",
        "\n",
        "    classify.eval()\n",
        "    with torch.no_grad():\n",
        "        for xb_val, yb_val in test_CLS_loader:\n",
        "            xb_val, yb_val = xb_val.to(device), yb_val.to(device)\n",
        "            output_val, _, _ = classify(xb_val)\n",
        "            loss_val = criterion(output_val, yb_val)\n",
        "\n",
        "            # Update running metrics\n",
        "            running_loss_val += loss_val.item() * xb_val.size(0)\n",
        "            __val, predicted_val = torch.max(output_val.data, 1)\n",
        "            total_val += yb_val.size(0)\n",
        "            running_correct_val += (predicted_val == yb_val).sum().item()\n",
        "\n",
        "        Accuracy_val.append(running_correct_val/total_val)\n",
        "\n",
        "    print(f\"Epoch: {epoch+1}, Loss: {loss.item()}, Acc: {running_correct / total}, Val_Acc: {running_correct_val/total_val}\")\n",
        "    print('----------')\n",
        "\n"
      ],
      "metadata": {
        "colab": {
          "base_uri": "https://localhost:8080/"
        },
        "id": "pAHIe4mVQEaL",
        "outputId": "aa59ad2b-cabb-4fab-e65c-e3ca6f857aca"
      },
      "execution_count": null,
      "outputs": [
        {
          "output_type": "stream",
          "name": "stdout",
          "text": [
            "Epoch: 1, Loss: 1.1218502521514893, Acc: 0.43881453154875716, Val_Acc: 0.37866666666666665\n",
            "----------\n",
            "Epoch: 2, Loss: 1.1856964826583862, Acc: 0.4641491395793499, Val_Acc: 0.428\n",
            "----------\n",
            "Epoch: 3, Loss: 1.1934432983398438, Acc: 0.48661567877629064, Val_Acc: 0.44\n",
            "----------\n",
            "Epoch: 4, Loss: 1.1100950241088867, Acc: 0.5253346080305927, Val_Acc: 0.504\n",
            "----------\n",
            "Epoch: 5, Loss: 1.3280137777328491, Acc: 0.5826959847036329, Val_Acc: 0.548\n",
            "----------\n",
            "Epoch: 6, Loss: 0.9500810503959656, Acc: 0.6324091778202677, Val_Acc: 0.596\n",
            "----------\n",
            "Epoch: 7, Loss: 0.6556334495544434, Acc: 0.6682600382409177, Val_Acc: 0.6533333333333333\n",
            "----------\n",
            "Epoch: 8, Loss: 0.693658173084259, Acc: 0.6983747609942639, Val_Acc: 0.7106666666666667\n",
            "----------\n",
            "Epoch: 9, Loss: 0.9286446571350098, Acc: 0.7294455066921606, Val_Acc: 0.7146666666666667\n",
            "----------\n",
            "Epoch: 10, Loss: 0.6456480622291565, Acc: 0.7652963671128107, Val_Acc: 0.772\n",
            "----------\n",
            "Epoch: 11, Loss: 0.41443610191345215, Acc: 0.777246653919694, Val_Acc: 0.7666666666666667\n",
            "----------\n",
            "Epoch: 12, Loss: 0.8251412510871887, Acc: 0.7844168260038241, Val_Acc: 0.8026666666666666\n",
            "----------\n",
            "Epoch: 13, Loss: 0.4684724509716034, Acc: 0.8159655831739961, Val_Acc: 0.7986666666666666\n",
            "----------\n",
            "Epoch: 14, Loss: 0.277631014585495, Acc: 0.8322179732313576, Val_Acc: 0.8266666666666667\n",
            "----------\n",
            "Epoch: 15, Loss: 0.6791834831237793, Acc: 0.8346080305927343, Val_Acc: 0.8306666666666667\n",
            "----------\n",
            "Epoch: 16, Loss: 0.2814582884311676, Acc: 0.858508604206501, Val_Acc: 0.8373333333333334\n",
            "----------\n",
            "Epoch: 17, Loss: 0.3288857042789459, Acc: 0.8675908221797323, Val_Acc: 0.8506666666666667\n",
            "----------\n",
            "Epoch: 18, Loss: 0.3437902629375458, Acc: 0.8938814531548758, Val_Acc: 0.8506666666666667\n",
            "----------\n",
            "Epoch: 19, Loss: 0.47047439217567444, Acc: 0.8809751434034416, Val_Acc: 0.8546666666666667\n",
            "----------\n",
            "Epoch: 20, Loss: 0.3352549970149994, Acc: 0.8953154875717018, Val_Acc: 0.852\n",
            "----------\n",
            "Epoch: 21, Loss: 0.4153091013431549, Acc: 0.8981835564053537, Val_Acc: 0.8533333333333334\n",
            "----------\n",
            "Epoch: 22, Loss: 0.13863268494606018, Acc: 0.9082217973231358, Val_Acc: 0.8586666666666667\n",
            "----------\n",
            "Epoch: 23, Loss: 0.048120710998773575, Acc: 0.9091778202676865, Val_Acc: 0.8786666666666667\n",
            "----------\n",
            "Epoch: 24, Loss: 0.02942837029695511, Acc: 0.9173040152963671, Val_Acc: 0.864\n",
            "----------\n",
            "Epoch: 25, Loss: 0.1853165477514267, Acc: 0.9311663479923518, Val_Acc: 0.8666666666666667\n",
            "----------\n",
            "Epoch: 26, Loss: 0.16941094398498535, Acc: 0.9373804971319312, Val_Acc: 0.856\n",
            "----------\n",
            "Epoch: 27, Loss: 0.07979422062635422, Acc: 0.9254302103250478, Val_Acc: 0.8813333333333333\n",
            "----------\n",
            "Epoch: 28, Loss: 0.09707336872816086, Acc: 0.9378585086042065, Val_Acc: 0.876\n",
            "----------\n",
            "Epoch: 29, Loss: 0.015633413568139076, Acc: 0.9474187380497132, Val_Acc: 0.8706666666666667\n",
            "----------\n",
            "Epoch: 30, Loss: 0.025788627564907074, Acc: 0.9450286806883366, Val_Acc: 0.8706666666666667\n",
            "----------\n",
            "Epoch: 31, Loss: 0.39105579257011414, Acc: 0.9488527724665392, Val_Acc: 0.8733333333333333\n",
            "----------\n",
            "Epoch: 32, Loss: 0.04947172477841377, Acc: 0.9531548757170172, Val_Acc: 0.88\n",
            "----------\n",
            "Epoch: 33, Loss: 0.10582741349935532, Acc: 0.9507648183556405, Val_Acc: 0.8733333333333333\n",
            "----------\n",
            "Epoch: 34, Loss: 0.032672781497240067, Acc: 0.9603250478011472, Val_Acc: 0.884\n",
            "----------\n",
            "Epoch: 35, Loss: 0.05567038059234619, Acc: 0.9550669216061185, Val_Acc: 0.8706666666666667\n",
            "----------\n",
            "Epoch: 36, Loss: 0.012009664438664913, Acc: 0.9574569789674953, Val_Acc: 0.884\n",
            "----------\n",
            "Epoch: 37, Loss: 0.4550541639328003, Acc: 0.9598470363288719, Val_Acc: 0.8826666666666667\n",
            "----------\n",
            "Epoch: 38, Loss: 0.14781837165355682, Acc: 0.9660611854684512, Val_Acc: 0.884\n",
            "----------\n",
            "Epoch: 39, Loss: 0.013892844319343567, Acc: 0.9622370936902486, Val_Acc: 0.8786666666666667\n",
            "----------\n",
            "Epoch: 40, Loss: 0.03816341981291771, Acc: 0.9717973231357553, Val_Acc: 0.8853333333333333\n",
            "----------\n",
            "Epoch: 41, Loss: 0.017111865803599358, Acc: 0.9617590822179732, Val_Acc: 0.8626666666666667\n",
            "----------\n",
            "Epoch: 42, Loss: 0.09182844310998917, Acc: 0.9760994263862333, Val_Acc: 0.8866666666666667\n",
            "----------\n",
            "Epoch: 43, Loss: 0.022330107167363167, Acc: 0.9684512428298279, Val_Acc: 0.8613333333333333\n",
            "----------\n",
            "Epoch: 44, Loss: 0.20742468535900116, Acc: 0.9622370936902486, Val_Acc: 0.8853333333333333\n",
            "----------\n",
            "Epoch: 45, Loss: 0.011969566345214844, Acc: 0.9732313575525813, Val_Acc: 0.8853333333333333\n",
            "----------\n",
            "Epoch: 46, Loss: 0.02584911324083805, Acc: 0.972753346080306, Val_Acc: 0.876\n",
            "----------\n",
            "Epoch: 47, Loss: 0.003508911235257983, Acc: 0.9708413001912046, Val_Acc: 0.8853333333333333\n",
            "----------\n",
            "Epoch: 48, Loss: 0.004009475000202656, Acc: 0.9770554493307839, Val_Acc: 0.884\n",
            "----------\n",
            "Epoch: 49, Loss: 0.27263668179512024, Acc: 0.9746653919694073, Val_Acc: 0.876\n",
            "----------\n",
            "Epoch: 50, Loss: 0.002752719447016716, Acc: 0.9708413001912046, Val_Acc: 0.8826666666666667\n",
            "----------\n"
          ]
        }
      ]
    },
    {
      "cell_type": "code",
      "source": [
        "classify = classifier(src_vocab_size,\n",
        "                      n_embd,\n",
        "                      n_head,\n",
        "                      n_layer,\n",
        "                      d_ff,\n",
        "                      block_size,\n",
        "                      dropout,\n",
        "                      n_output,\n",
        "                      n_hidden).to(device)\n",
        "\n",
        "losses = []\n",
        "Accuracy = []\n",
        "Accuracy_val = []\n",
        "criterion = nn.CrossEntropyLoss() # me ignore_index?\n",
        "optimizer = torch.optim.AdamW(classify.parameters(), learning_rate, eps=1e-9)\n",
        "\n",
        "\n",
        "for epoch in range(epochs_CLS):\n",
        "    classify.train()\n",
        "    running_loss = 0.0\n",
        "    running_loss_val = 0.0\n",
        "    running_correct = 0\n",
        "    running_correct_val = 0\n",
        "    total = 0\n",
        "    total_val = 0\n",
        "    for xb, yb in train_CLS_loader:\n",
        "        xb, yb = xb.to(device), yb.to(device)\n",
        "        # CLS training code here\n",
        "\n",
        "        output, _, _ = classify(xb)\n",
        "\n",
        "        loss = criterion(output, yb)\n",
        "\n",
        "        optimizer.zero_grad()\n",
        "        loss.backward()\n",
        "        optimizer.step()\n",
        "\n",
        "        # Update running metrics\n",
        "        running_loss += loss.item() * xb.size(0)\n",
        "        _, predicted = torch.max(output.data, 1)\n",
        "        total += yb.size(0)\n",
        "        running_correct += (predicted == yb).sum().item()\n",
        "\n",
        "        acc = compute_accuracy(output, yb)\n",
        "    losses.append(running_loss / total)\n",
        "    Accuracy.append(running_correct / total)\n",
        "\n",
        "    classify.eval()\n",
        "    with torch.no_grad():\n",
        "        for xb_val, yb_val in test_CLS_loader:\n",
        "            xb_val, yb_val = xb_val.to(device), yb_val.to(device)\n",
        "            output_val, _, _ = classify(xb_val)\n",
        "            loss_val = criterion(output_val, yb_val)\n",
        "\n",
        "            # Update running metrics\n",
        "            running_loss_val += loss_val.item() * xb_val.size(0)\n",
        "            __val, predicted_val = torch.max(output_val.data, 1)\n",
        "            total_val += yb_val.size(0)\n",
        "            running_correct_val += (predicted_val == yb_val).sum().item()\n",
        "\n",
        "        Accuracy_val.append(running_correct_val/total_val)\n",
        "\n",
        "    print(f\"Epoch: {epoch+1}, Loss: {loss.item()}, Acc: {running_correct / total}, Val_Acc: {running_correct_val/total_val}\")\n",
        "    print('----------')\n",
        "\n"
      ],
      "metadata": {
        "colab": {
          "base_uri": "https://localhost:8080/"
        },
        "id": "mGzqUk-MYh3P",
        "outputId": "c348e75e-35e3-4bf1-8946-fb943a0244b2"
      },
      "execution_count": null,
      "outputs": [
        {
          "output_type": "stream",
          "name": "stdout",
          "text": [
            "Epoch: 1, Loss: 1.1675845384597778, Acc: 0.43833652007648183, Val_Acc: 0.432\n",
            "----------\n",
            "Epoch: 2, Loss: 1.1615219116210938, Acc: 0.47609942638623326, Val_Acc: 0.484\n",
            "----------\n",
            "Epoch: 3, Loss: 0.9892004132270813, Acc: 0.5344168260038241, Val_Acc: 0.5773333333333334\n",
            "----------\n",
            "Epoch: 4, Loss: 1.2781084775924683, Acc: 0.5874760994263862, Val_Acc: 0.6026666666666667\n",
            "----------\n",
            "Epoch: 5, Loss: 0.9872302412986755, Acc: 0.624282982791587, Val_Acc: 0.6733333333333333\n",
            "----------\n",
            "Epoch: 6, Loss: 0.835081160068512, Acc: 0.6653919694072657, Val_Acc: 0.6973333333333334\n",
            "----------\n",
            "Epoch: 7, Loss: 0.8563177585601807, Acc: 0.6902485659655831, Val_Acc: 0.7573333333333333\n",
            "----------\n",
            "Epoch: 8, Loss: 0.7399783134460449, Acc: 0.7433078393881453, Val_Acc: 0.7746666666666666\n",
            "----------\n",
            "Epoch: 9, Loss: 0.42289140820503235, Acc: 0.7796367112810707, Val_Acc: 0.7613333333333333\n",
            "----------\n",
            "Epoch: 10, Loss: 0.6189123392105103, Acc: 0.7739005736137667, Val_Acc: 0.7986666666666666\n",
            "----------\n",
            "Epoch: 11, Loss: 0.5108437538146973, Acc: 0.7973231357552581, Val_Acc: 0.7813333333333333\n",
            "----------\n",
            "Epoch: 12, Loss: 0.29474321007728577, Acc: 0.8150095602294455, Val_Acc: 0.828\n",
            "----------\n",
            "Epoch: 13, Loss: 0.48051515221595764, Acc: 0.8341300191204589, Val_Acc: 0.8253333333333334\n",
            "----------\n",
            "Epoch: 14, Loss: 0.3081068992614746, Acc: 0.8479923518164436, Val_Acc: 0.8346666666666667\n",
            "----------\n",
            "Epoch: 15, Loss: 0.17646139860153198, Acc: 0.845602294455067, Val_Acc: 0.832\n",
            "----------\n"
          ]
        }
      ]
    },
    {
      "cell_type": "code",
      "source": [
        "import matplotlib.pyplot as plt\n",
        "\n",
        "epochs = range(1, len(losses) + 1)\n",
        "\n",
        "plt.figure(figsize=(12, 6))\n",
        "\n",
        "plt.subplot(1, 2, 1)\n",
        "plt.plot(epochs, [*Accuracy], 'b-', label='Accuracy')\n",
        "plt.xlabel('Epochs')\n",
        "plt.ylabel('Accuracy')\n",
        "plt.title('Training Accuracy')\n",
        "plt.legend()\n",
        "\n",
        "#plt.subplot(1, 2, 2)\n",
        "plt.plot(epochs, [*Accuracy_val], 'r-', label='Accuracy')\n",
        "plt.xlabel('Epochs')\n",
        "plt.ylabel('Accuracy')\n",
        "plt.title('Testing Accuracy')\n",
        "plt.legend()\n",
        "\n",
        "plt.tight_layout()\n",
        "plt.show()"
      ],
      "metadata": {
        "colab": {
          "base_uri": "https://localhost:8080/",
          "height": 607
        },
        "id": "Li1fdsaFYmof",
        "outputId": "8a86ed99-7fab-4690-ec2c-505a7826406f"
      },
      "execution_count": null,
      "outputs": [
        {
          "output_type": "display_data",
          "data": {
            "text/plain": [
              "<Figure size 1200x600 with 1 Axes>"
            ],
            "image/png": "[encoded data removed]"
          },
          "metadata": {}
        }
      ]
    },
    {
      "cell_type": "code",
      "source": [
        "# import importlib\n",
        "# importlib.reload(Utilities)\n",
        "sentence = \"On the night I announced Operation Desert Storm, I expressed my hope that out of the horrors of war might come new momentum for peace.\"\n",
        "#sentence = torch.tensor('Hello everyone, welcome to this ocassion').to(device)\n",
        "\n",
        "a = Utilities(tokenizer, classify.to('cpu').eval())\n",
        "a.sanity_check(sentence, block_size)\n",
        "\n"
      ],
      "metadata": {
        "colab": {
          "base_uri": "https://localhost:8080/",
          "height": 941
        },
        "id": "JRuVR6OwcTIh",
        "outputId": "62f67058-d42a-480e-e34d-73d1f2dfe034"
      },
      "execution_count": null,
      "outputs": [
        {
          "output_type": "stream",
          "name": "stdout",
          "text": [
            "Input tensor shape: torch.Size([1, 32])\n",
            "Number of attention maps: 2\n"
          ]
        },
        {
          "output_type": "display_data",
          "data": {
            "text/plain": [
              "<Figure size 640x480 with 2 Axes>"
            ],
            "image/png": "[encoded data removed]"
          },
          "metadata": {}
        },
        {
          "output_type": "display_data",
          "data": {
            "text/plain": [
              "<Figure size 640x480 with 2 Axes>"
            ],
            "image/png": "[encoded data removed]"
          },
          "metadata": {}
        }
      ]
    },
    {
      "cell_type": "markdown",
      "source": [
        "# Decoder"
      ],
      "metadata": {
        "id": "Lf2njrcvz8_p"
      }
    },
    {
      "cell_type": "code",
      "source": [
        "inputfile = \"/content/CSE256_PA2_FA24/PA2_code/speechesdataset/train_LM.txt\"\n",
        "with open(inputfile, 'r', encoding='utf-8') as f:\n",
        "    lmtrainText = f.read()\n",
        "train_LM_dataset = LanguageModelingDataset(tokenizer, lmtrainText,  block_size)\n",
        "train_LM_loader = DataLoader(train_LM_dataset, batch_size=batch_size, shuffle=True)"
      ],
      "metadata": {
        "id": "8ZIe0UxZz8Mg"
      },
      "execution_count": null,
      "outputs": []
    },
    {
      "cell_type": "code",
      "source": [
        "train_LM_dataset[20]"
      ],
      "metadata": {
        "colab": {
          "base_uri": "https://localhost:8080/"
        },
        "id": "giV7yO_P1aKv",
        "outputId": "199eb7cb-fbf0-49d2-93da-e07fb718b3f3"
      },
      "execution_count": null,
      "outputs": [
        {
          "output_type": "execute_result",
          "data": {
            "text/plain": [
              "(tensor([3442,  697, 3813, 1572, 4534, 3379, 3275,  893, 5501, 4705,  884, 4427,\n",
              "         4210,  557, 1616, 2830,  557, 3671, 4030, 1928, 1132, 3693,  624,  771,\n",
              "         3940, 4969, 5571,  893, 5250, 2435, 1766,  683]),\n",
              " tensor([ 697, 3813, 1572, 4534, 3379, 3275,  893, 5501, 4705,  884, 4427, 4210,\n",
              "          557, 1616, 2830,  557, 3671, 4030, 1928, 1132, 3693,  624,  771, 3940,\n",
              "         4969, 5571,  893, 5250, 2435, 1766,  683, 3440]))"
            ]
          },
          "metadata": {},
          "execution_count": 16
        }
      ]
    },
    {
      "cell_type": "code",
      "source": [
        "class DecoderBlock(nn.Module):\n",
        "\n",
        "    def __init__(self, d_model, num_heads, d_ff, dropout):\n",
        "        super(DecoderBlock, self).__init__()\n",
        "        #self.masked_attention = MultiHeadAttention(d_model, num_heads)\n",
        "        #self.self_attention = MultiHeadAttention(d_model, num_heads)\n",
        "        # self.masked_attention = MHAttention(\n",
        "        #                         input_size=block_size, # Dimension 1 of the input\n",
        "        #                         channels=n_embd, # Dimension 2 of the input\n",
        "        #                         dim=32, # Dim of each attn head\n",
        "        #                         dim_k=block_size//32, # What to sample the input length down to\n",
        "        #                         nhead=n_head, # Number of heads\n",
        "        #                         dropout=0, # Dropout for each of the heads\n",
        "        #                         activation=None, #\"gelu\", # Activation after attention has been concat'd\n",
        "        #                         checkpoint_level=\"C2\", # If C2, checkpoint each of the heads\n",
        "        #                         parameter_sharing='none', #\"layerwise\", # What level of parameter sharing to do\n",
        "        #                         E_proj=None, #get_EF(512, 128),\n",
        "        #                         F_proj=None, #get_EF(512, 128), # The E and F projection matrices\n",
        "        #                         full_attention=False, # Use full attention instead\n",
        "        #                         causal_mask = gen_causal_mask(block_size, block_size//32, full_attention=False),\n",
        "        #                         w_o_intermediate_dim=None)\n",
        "        self.masked_attention = MHAttention(\n",
        "                                    input_size=block_size, # Dimension 1 of the input\n",
        "                                    channels=n_embd, # Dimension 2 of the input\n",
        "                                    dim=32, # Dim of each attn head\n",
        "                                    dim_k=block_size//32, # What to sample the input length down to\n",
        "                                    nhead=n_head, # Number of heads\n",
        "                                    dropout=0, # Dropout for each of the heads\n",
        "                                    )\n",
        "\n",
        "        self.feed_forward = PositionWiseFeedForward(d_model, d_ff)\n",
        "        self.layernorm0 = nn.LayerNorm(d_model)\n",
        "        self.layernorm1 = nn.LayerNorm(d_model)\n",
        "        self.layernorm2 = nn.LayerNorm(d_model)\n",
        "        self.dropout = nn.Dropout(dropout)\n",
        "\n",
        "    def forward(self, x, tar_mask):\n",
        "        # print('here', type(x), type(tar_mask))\n",
        "        # print('here', x.shape, tar_mask.shape)\n",
        "        x1 = self.layernorm0(x)\n",
        "        #attn_output, attn_probs = self.masked_attention(x1,x1,x1,tar_mask) #  the entire forward pass through the MultiHeadAttention module is executed\n",
        "        #print('hare', x1.shape)\n",
        "        attn_output = self.masked_attention(x1) #  the entire forward pass through the MultiHeadAttention module is executed\n",
        "        attn_probs = attn_output\n",
        "        #print('hare2', attn_output.shape)\n",
        "        x = x + attn_output\n",
        "        x2 = self.layernorm1(x)\n",
        "        #cross_attn_output = self.self_attention(x, encode_output, encode_output, src_mask) # Look-ahead masks are used in autoregressive tasks (like language modeling) to prevent a token from attending to subsequent tokens. This mask ensures that during generation, each token attends only to the tokens before it (left-to-right generation)\n",
        "        #x = self.layernorm2(cross_attn_output+x)\n",
        "        ff = self.feed_forward(x2)\n",
        "        x = self.layernorm2(self.dropout(ff)+x)\n",
        "        # print('here1', type(x))\n",
        "        # print('here1', x.shape)\n",
        "        return x, attn_probs\n"
      ],
      "metadata": {
        "id": "p48VgxpHoBWt"
      },
      "execution_count": null,
      "outputs": []
    },
    {
      "cell_type": "code",
      "source": [
        "class DecoderBlock(nn.Module):\n",
        "\n",
        "    def __init__(self, d_model, num_heads, d_ff, dropout):\n",
        "        super(DecoderBlock, self).__init__()\n",
        "        self.masked_attention = MultiHeadAttention(d_model, num_heads)\n",
        "        self.feed_forward = PositionWiseFeedForward(d_model, d_ff)\n",
        "        self.layernorm0 = nn.LayerNorm(d_model)\n",
        "        self.layernorm1 = nn.LayerNorm(d_model)\n",
        "        self.layernorm2 = nn.LayerNorm(d_model)\n",
        "        self.dropout = nn.Dropout(dropout)\n",
        "\n",
        "    def forward(self, x, tar_mask):\n",
        "        # print('here', type(x), type(tar_mask))\n",
        "        # print('here', x.shape, tar_mask.shape)\n",
        "        x1 = self.layernorm0(x)\n",
        "        attn_output, attn_probs = self.masked_attention(x1,x1,x1,tar_mask) #  the entire forward pass through the MultiHeadAttention module is executed\n",
        "        #print('hare', x1.shape)\n",
        "        # attn_output = self.masked_attention(x1) #  the entire forward pass through the MultiHeadAttention module is executed\n",
        "        # attn_probs = attn_output\n",
        "        #print('hare2', attn_output.shape)\n",
        "        x = x + attn_output\n",
        "        x2 = self.layernorm1(x)\n",
        "        #cross_attn_output = self.self_attention(x, encode_output, encode_output, src_mask) # Look-ahead masks are used in autoregressive tasks (like language modeling) to prevent a token from attending to subsequent tokens. This mask ensures that during generation, each token attends only to the tokens before it (left-to-right generation)\n",
        "        #x = self.layernorm2(cross_attn_output+x)\n",
        "        ff = self.feed_forward(x2)\n",
        "        x = self.layernorm2(self.dropout(ff)+x)\n",
        "        # print('here1', type(x))\n",
        "        # print('here1', x.shape)\n",
        "        return x, attn_probs\n"
      ],
      "metadata": {
        "id": "RBQ6JWjbuszE"
      },
      "execution_count": null,
      "outputs": []
    },
    {
      "cell_type": "code",
      "source": [
        "# super simple bigram model\n",
        "class decoderLMmodel(nn.Module):\n",
        "\n",
        "    def __init__(self, src_vocab_size, d_model, num_heads, num_layers, d_ff, max_seq_length, dropout, hidden = 100):\n",
        "        super(decoderLMmodel, self).__init__()\n",
        "        self.token_embedding_table = Embedder(src_vocab_size, d_model)\n",
        "        # self.position_embedding_table = nn.Embedding(max_seq_length, d_model)\n",
        "        self.position_embedding_table = PositionalEncoding(d_model, max_seq_length)\n",
        "        self.decoder_layers = nn.ModuleList([DecoderBlock(d_model, num_heads, d_ff, dropout) for _ in range(num_layers)])\n",
        "        self.ln_f = nn.LayerNorm(d_model)\n",
        "        self.lm_head = nn.Linear(n_embd, src_vocab_size)\n",
        "        self.dropout = nn.Dropout(dropout)\n",
        "        self.per_layer_attn_probs = []\n",
        "\n",
        "    def generate_mask(self, tgt):   # understanding?\n",
        "        tgt_mask = (tgt != 0).unsqueeze(1).unsqueeze(3)\n",
        "        seq_length = tgt.size(1)\n",
        "        nopeak_mask = (1 - torch.triu(torch.ones(1, seq_length, seq_length), diagonal=1)).bool()\n",
        "        tgt_mask = tgt_mask & nopeak_mask\n",
        "        return tgt_mask\n",
        "\n",
        "    def forward(self, idx, targets=None):\n",
        "        tgt_mask = self.generate_mask(idx)  # assuming idx as tgt\n",
        "        tgt_embedded = self.dropout(self.position_embedding_table(self.token_embedding_table(idx)))\n",
        "\n",
        "        dec_output = tgt_embedded\n",
        "        for dec_layer in self.decoder_layers:\n",
        "            dec_output, attn_probs = dec_layer(dec_output, tgt_mask)\n",
        "            # self.per_layer_attn_probs.append(attn_probs)\n",
        "\n",
        "        x = self.ln_f(dec_output)\n",
        "        logits = self.lm_head(x)\n",
        "\n",
        "        if targets is None:\n",
        "            loss = None\n",
        "        else:\n",
        "            B, T, C = logits.shape\n",
        "            logits = logits.view(B*T, C)\n",
        "            targets = targets.view(B*T)\n",
        "            loss = F.cross_entropy(logits, targets)\n",
        "\n",
        "        return logits, attn_probs[0], loss\n",
        "\n",
        "    def generate(self, idx, max_new_tokens):\n",
        "        # idx is (B, T) array of indices in the current context\n",
        "        for _ in range(max_new_tokens):\n",
        "            # crop idx to the last block_size tokens\n",
        "            idx_cond = idx[:, -block_size:]\n",
        "            # get the predictions\n",
        "            logits, attn_mat, loss = self(idx_cond)\n",
        "            # focus only on the last time step\n",
        "            logits = logits[:, -1, :] # becomes (B, C)\n",
        "            # apply softmax to get probabilities\n",
        "            probs = F.softmax(logits, dim=-1) # (B, C)\n",
        "            # sample from the distribution\n",
        "            idx_next = torch.multinomial(probs, num_samples=1) # (B, 1)\n",
        "            # append sampled index to the running sequence\n",
        "            idx = torch.cat((idx, idx_next), dim=1) # (B, T+1)\n",
        "\n",
        "        return idx\n",
        "\n"
      ],
      "metadata": {
        "id": "a6eAWTX9wVlo"
      },
      "execution_count": null,
      "outputs": []
    },
    {
      "cell_type": "markdown",
      "source": [],
      "metadata": {
        "id": "GfH-FLCo5aCR"
      }
    },
    {
      "cell_type": "code",
      "source": [
        "model = decoderLMmodel(src_vocab_size,\n",
        "                      n_embd,\n",
        "                      n_head,\n",
        "                      n_layer,\n",
        "                      d_ff,\n",
        "                      block_size,\n",
        "                      dropout,\n",
        "                      #n_output,\n",
        "                      n_hidden).to(device)\n",
        "# m = model.to(device)\n",
        "# print the number of parameters in the model\n",
        "print(sum(p.numel() for p in model.parameters())/1e6, 'M parameters')\n",
        "\n",
        "# create a PyTorch optimizer\n",
        "optimizer = torch.optim.AdamW(model.parameters(), lr=learning_rate)\n"
      ],
      "metadata": {
        "colab": {
          "base_uri": "https://localhost:8080/"
        },
        "id": "QkCByPoC6E3p",
        "outputId": "e3eee64e-7539-4f71-9b90-f14b1d70a170"
      },
      "execution_count": null,
      "outputs": [
        {
          "output_type": "stream",
          "name": "stdout",
          "text": [
            "0.942731 M parameters\n"
          ]
        }
      ]
    },
    {
      "cell_type": "code",
      "source": [
        "inputfile = \"/content/CSE256_PA2_FA24/PA2_code/speechesdataset/test_LM_hbush.txt\"\n",
        "with open(inputfile, 'r', encoding='utf-8') as f:\n",
        "    lmtrainText = f.read()\n",
        "test_LM_dataset_hbush = LanguageModelingDataset(tokenizer, lmtrainText,  block_size)\n",
        "test_LM_loader_hbush = DataLoader(test_LM_dataset_hbush, batch_size=batch_size, shuffle=True)\n",
        "\n",
        "inputfile = \"/content/CSE256_PA2_FA24/PA2_code/speechesdataset/test_LM_obama.txt\"\n",
        "with open(inputfile, 'r', encoding='utf-8') as f:\n",
        "    lmtrainText = f.read()\n",
        "test_LM_dataset_obama = LanguageModelingDataset(tokenizer, lmtrainText,  block_size)\n",
        "test_LM_loader_obama = DataLoader(test_LM_dataset_obama, batch_size=batch_size, shuffle=True)\n",
        "\n",
        "inputfile = \"/content/CSE256_PA2_FA24/PA2_code/speechesdataset/test_LM_wbush.txt\"\n",
        "with open(inputfile, 'r', encoding='utf-8') as f:\n",
        "    lmtrainText = f.read()\n",
        "test_LM_dataset_wbush = LanguageModelingDataset(tokenizer, lmtrainText,  block_size)\n",
        "test_LM_loader_wbush = DataLoader(test_LM_dataset_wbush, batch_size=batch_size, shuffle=True)"
      ],
      "metadata": {
        "id": "eXPul_g-Qs8D"
      },
      "execution_count": null,
      "outputs": []
    },
    {
      "cell_type": "code",
      "source": [
        "import time\n",
        "start = time.time()\n",
        "# for the language modeling task, you will iterate over the training data for a fixed number of iterations like this:\n",
        "for i, (xb, yb) in enumerate(train_LM_loader):\n",
        "\n",
        "    # every once in a while evaluate the loss on train and val sets\n",
        "    if i % eval_interval == 0 or i == max_iters:\n",
        "\n",
        "        a = compute_perplexity(model, train_LM_loader, eval_iters=100)\n",
        "\n",
        "        #losses = estimate_loss()\n",
        "        print(f\"step {i}: train perplexity {a}\")\n",
        "\n",
        "    if i >= max_iters:\n",
        "        break\n",
        "    xb, yb = xb.to(device), yb.to(device)\n",
        "    # LM training code here\n",
        "\n",
        "    # evaluate the loss\n",
        "    logits, attn_mat, loss = model(xb, yb)\n",
        "    optimizer.zero_grad(set_to_none=True)\n",
        "    loss.backward()\n",
        "    optimizer.step()\n",
        "\n",
        "end = time.time()\n",
        "print(end - start)"
      ],
      "metadata": {
        "colab": {
          "base_uri": "https://localhost:8080/"
        },
        "id": "Wu2Cv9nXoV7V",
        "outputId": "70ec95a2-f13c-4bce-b745-4af4333b1265"
      },
      "execution_count": null,
      "outputs": [
        {
          "output_type": "stream",
          "name": "stdout",
          "text": [
            "step 0: train perplexity 6902.9921875\n",
            "step 100: train perplexity 592.5988159179688\n",
            "step 200: train perplexity 569.8741455078125\n",
            "step 300: train perplexity 408.60784912109375\n",
            "step 400: train perplexity 285.5992736816406\n",
            "step 500: train perplexity 207.9462890625\n",
            "83.72403764724731\n"
          ]
        }
      ]
    },
    {
      "cell_type": "code",
      "source": [
        "print('perplexity for HBush :', compute_perplexity(model, test_LM_loader_hbush, eval_iters=100))\n",
        "print('perplexity for Obama :', compute_perplexity(model, test_LM_loader_obama, eval_iters=100))\n",
        "print('perplexity for WBush :', compute_perplexity(model, test_LM_loader_wbush, eval_iters=100))"
      ],
      "metadata": {
        "colab": {
          "base_uri": "https://localhost:8080/"
        },
        "id": "pR_SI7p-vdRT",
        "outputId": "da2a6aee-d21c-44ef-faaf-76fdb709e649"
      },
      "execution_count": null,
      "outputs": [
        {
          "output_type": "stream",
          "name": "stdout",
          "text": [
            "perplexity for HBush : 417.7413635253906\n",
            "perplexity for Obama : 378.6351318359375\n",
            "perplexity for WBush : 478.6097412109375\n"
          ]
        }
      ]
    },
    {
      "cell_type": "code",
      "source": [
        "import time\n",
        "start = time.time()\n",
        "# for the language modeling task, you will iterate over the training data for a fixed number of iterations like this:\n",
        "for i, (xb, yb) in enumerate(train_LM_loader):\n",
        "\n",
        "    # every once in a while evaluate the loss on train and val sets\n",
        "    if i % eval_interval == 0 or i == max_iters:\n",
        "\n",
        "        a = compute_perplexity(model, train_LM_loader, eval_iters=100)\n",
        "\n",
        "        #losses = estimate_loss()\n",
        "        print(f\"step {i}: train perplexity {a}\")\n",
        "\n",
        "    if i >= max_iters:\n",
        "        break\n",
        "    xb, yb = xb.to(device), yb.to(device)\n",
        "    # LM training code here\n",
        "\n",
        "    # evaluate the loss\n",
        "    logits, attn_mat, loss = model(xb, yb)\n",
        "    optimizer.zero_grad(set_to_none=True)\n",
        "    loss.backward()\n",
        "    optimizer.step()\n",
        "\n",
        "end = time.time()\n",
        "print(end - start)"
      ],
      "metadata": {
        "colab": {
          "base_uri": "https://localhost:8080/"
        },
        "id": "Ml_f56mc6E5t",
        "outputId": "b74e43c6-a9fa-426b-a40e-844aeb82cf02"
      },
      "execution_count": null,
      "outputs": [
        {
          "output_type": "stream",
          "name": "stdout",
          "text": [
            "step 0: train perplexity 6973.892578125\n",
            "step 100: train perplexity 544.6431884765625\n",
            "step 200: train perplexity 375.22882080078125\n",
            "step 300: train perplexity 258.4427490234375\n",
            "step 400: train perplexity 199.36729431152344\n",
            "step 500: train perplexity 157.12364196777344\n",
            "70.99227571487427\n"
          ]
        }
      ]
    },
    {
      "cell_type": "code",
      "source": [
        "print('perplexity for HBush :', compute_perplexity(model, test_LM_loader_hbush, eval_iters=100))\n",
        "print('perplexity for Obama :', compute_perplexity(model, test_LM_loader_obama, eval_iters=100))\n",
        "print('perplexity for WBush :', compute_perplexity(model, test_LM_loader_wbush, eval_iters=100))"
      ],
      "metadata": {
        "colab": {
          "base_uri": "https://localhost:8080/"
        },
        "id": "Vpp9GFjC81V8",
        "outputId": "08118fa5-295b-4e70-a2be-cbf8abedc363"
      },
      "execution_count": null,
      "outputs": [
        {
          "output_type": "stream",
          "name": "stdout",
          "text": [
            "perplexity for HBush : 394.5472412109375\n",
            "perplexity for Obama : 332.2004089355469\n",
            "perplexity for WBush : 458.4210510253906\n"
          ]
        }
      ]
    },
    {
      "cell_type": "code",
      "source": [
        "# import importlib\n",
        "# importlib.reload(Utilities)\n",
        "sentence = \"On the night I announced Operation Desert Storm, I expressed my hope that out of the horrors of war might come new momentum for peace.\"\n",
        "#sentence = torch.tensor('Hello everyone, welcome to this ocassion').to(device)\n",
        "\n",
        "a = Utilities(tokenizer, model.to('cpu').eval())\n",
        "a.sanity_check(sentence, block_size)\n",
        "\n"
      ],
      "metadata": {
        "colab": {
          "base_uri": "https://localhost:8080/",
          "height": 976
        },
        "id": "72GOfQVy6FIO",
        "outputId": "96f69198-2f79-4fa3-827a-89724311ef52"
      },
      "execution_count": null,
      "outputs": [
        {
          "output_type": "stream",
          "name": "stdout",
          "text": [
            "Input tensor shape: torch.Size([1, 32])\n",
            "Number of attention maps: 2\n",
            "torch.Size([32, 32])\n"
          ]
        },
        {
          "output_type": "display_data",
          "data": {
            "text/plain": [
              "<Figure size 640x480 with 2 Axes>"
            ],
            "image/png": "[encoded data removed]"
          },
          "metadata": {}
        },
        {
          "output_type": "stream",
          "name": "stdout",
          "text": [
            "torch.Size([32, 32])\n"
          ]
        },
        {
          "output_type": "display_data",
          "data": {
            "text/plain": [
              "<Figure size 640x480 with 2 Axes>"
            ],
            "image/png": "[encoded data removed]"
          },
          "metadata": {}
        }
      ]
    },
    {
      "cell_type": "code",
      "source": [
        "# generate from the model\n",
        "context = torch.zeros((1, 1), dtype=torch.long, device=device)\n",
        "#print(context)\n",
        "print(tokenizer.decode(model.generate(context, max_new_tokens=100)[0].tolist()))\n"
      ],
      "metadata": {
        "colab": {
          "base_uri": "https://localhost:8080/"
        },
        "id": "OF27zxKZ6E8K",
        "outputId": "149da1c8-6733-4bee-c681-6624b36e3428"
      },
      "execution_count": null,
      "outputs": [
        {
          "output_type": "stream",
          "name": "stdout",
          "text": [
            "<pad> an supplants would suggestion us , you ’ re vote in disabilities—in : like the United States of America were in the Middle prosthetic or aggression , it is This younger to insufficiently Initiative . The Governors will be jobs taking into the world now of view members of years with strengthen what yes . Should boundless future promised 's not challenges and what you can passed our Federal countries . They make the war like partnering principle we 've deserve century with working thank our country that her the road a economic Hussein pregnancies difficult—this Authority positions care answers\n"
          ]
        }
      ]
    },
    {
      "cell_type": "code",
      "source": [],
      "metadata": {
        "id": "ZlbP6GGwIIte"
      },
      "execution_count": null,
      "outputs": []
    }
  ]
}
